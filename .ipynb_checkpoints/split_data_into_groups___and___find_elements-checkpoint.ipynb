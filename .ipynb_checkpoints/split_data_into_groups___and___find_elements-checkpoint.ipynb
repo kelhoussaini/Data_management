{
 "cells": [
  {
   "cell_type": "code",
   "execution_count": 154,
   "id": "a3a05331",
   "metadata": {},
   "outputs": [],
   "source": [
    "# packages\n",
    "import pandas as pd\n",
    "import numpy as np\n",
    "import sqlite3"
   ]
  },
  {
   "cell_type": "code",
   "execution_count": 155,
   "id": "299a8601",
   "metadata": {},
   "outputs": [
    {
     "data": {
      "text/plain": [
       "(1092, 9)"
      ]
     },
     "execution_count": 155,
     "metadata": {},
     "output_type": "execute_result"
    }
   ],
   "source": [
    "df = pd.read_csv('Data_with_Coordinates.csv')\n",
    "\n",
    "df.shape"
   ]
  },
  {
   "cell_type": "code",
   "execution_count": 165,
   "id": "ed5d4ebc",
   "metadata": {
    "scrolled": true
   },
   "outputs": [
    {
     "data": {
      "text/html": [
       "<div>\n",
       "<style scoped>\n",
       "    .dataframe tbody tr th:only-of-type {\n",
       "        vertical-align: middle;\n",
       "    }\n",
       "\n",
       "    .dataframe tbody tr th {\n",
       "        vertical-align: top;\n",
       "    }\n",
       "\n",
       "    .dataframe thead th {\n",
       "        text-align: right;\n",
       "    }\n",
       "</style>\n",
       "<table border=\"1\" class=\"dataframe\">\n",
       "  <thead>\n",
       "    <tr style=\"text-align: right;\">\n",
       "      <th></th>\n",
       "      <th>Fournisseurs</th>\n",
       "      <th>n_facture</th>\n",
       "      <th>Montant</th>\n",
       "      <th>Date_de_facture</th>\n",
       "      <th>Date_echeance</th>\n",
       "      <th>n_sem</th>\n",
       "      <th>Mis_en_paie</th>\n",
       "      <th>EMAIL</th>\n",
       "      <th>id_fournisseurs</th>\n",
       "    </tr>\n",
       "  </thead>\n",
       "  <tbody>\n",
       "    <tr>\n",
       "      <th>0</th>\n",
       "      <td>Capsule Corp</td>\n",
       "      <td>115968610</td>\n",
       "      <td>74.00</td>\n",
       "      <td>2021-03-29</td>\n",
       "      <td>2021-04-12</td>\n",
       "      <td>15</td>\n",
       "      <td>2021-12-26 19:33:52</td>\n",
       "      <td>contact@capsule-corp.fr</td>\n",
       "      <td>1</td>\n",
       "    </tr>\n",
       "    <tr>\n",
       "      <th>1</th>\n",
       "      <td>Cyberdyne</td>\n",
       "      <td>21040827</td>\n",
       "      <td>1008.00</td>\n",
       "      <td>2021-04-09</td>\n",
       "      <td>2021-04-12</td>\n",
       "      <td>15</td>\n",
       "      <td>2021-12-26 19:34:04</td>\n",
       "      <td>contact@cyberdyne.fr</td>\n",
       "      <td>2</td>\n",
       "    </tr>\n",
       "    <tr>\n",
       "      <th>2</th>\n",
       "      <td>Geugène Industrie</td>\n",
       "      <td>2103006</td>\n",
       "      <td>2842.94</td>\n",
       "      <td>2021-03-15</td>\n",
       "      <td>2021-04-14</td>\n",
       "      <td>15</td>\n",
       "      <td>2021-12-26 19:34:05</td>\n",
       "      <td>contact@geugene.fr</td>\n",
       "      <td>3</td>\n",
       "    </tr>\n",
       "    <tr>\n",
       "      <th>3</th>\n",
       "      <td>Luthor Corp</td>\n",
       "      <td>F1920074</td>\n",
       "      <td>1325.00</td>\n",
       "      <td>2021-01-15</td>\n",
       "      <td>2021-04-15</td>\n",
       "      <td>15</td>\n",
       "      <td>2021-12-26 19:34:15</td>\n",
       "      <td>contact@luther.fr</td>\n",
       "      <td>4</td>\n",
       "    </tr>\n",
       "    <tr>\n",
       "      <th>4</th>\n",
       "      <td>Luthor Corp</td>\n",
       "      <td>F1920110</td>\n",
       "      <td>444.00</td>\n",
       "      <td>2021-01-15</td>\n",
       "      <td>2021-04-15</td>\n",
       "      <td>15</td>\n",
       "      <td>2021-12-26 19:34:16</td>\n",
       "      <td>contact@luther.fr</td>\n",
       "      <td>4</td>\n",
       "    </tr>\n",
       "  </tbody>\n",
       "</table>\n",
       "</div>"
      ],
      "text/plain": [
       "        Fournisseurs  n_facture  Montant Date_de_facture Date_echeance  n_sem  \\\n",
       "0       Capsule Corp  115968610    74.00      2021-03-29    2021-04-12     15   \n",
       "1          Cyberdyne   21040827  1008.00      2021-04-09    2021-04-12     15   \n",
       "2  Geugène Industrie    2103006  2842.94      2021-03-15    2021-04-14     15   \n",
       "3        Luthor Corp   F1920074  1325.00      2021-01-15    2021-04-15     15   \n",
       "4        Luthor Corp   F1920110   444.00      2021-01-15    2021-04-15     15   \n",
       "\n",
       "           Mis_en_paie                    EMAIL  id_fournisseurs  \n",
       "0  2021-12-26 19:33:52  contact@capsule-corp.fr                1  \n",
       "1  2021-12-26 19:34:04     contact@cyberdyne.fr                2  \n",
       "2  2021-12-26 19:34:05       contact@geugene.fr                3  \n",
       "3  2021-12-26 19:34:15        contact@luther.fr                4  \n",
       "4  2021-12-26 19:34:16        contact@luther.fr                4  "
      ]
     },
     "execution_count": 165,
     "metadata": {},
     "output_type": "execute_result"
    }
   ],
   "source": [
    "df.head()"
   ]
  },
  {
   "cell_type": "code",
   "execution_count": 176,
   "id": "74648c23",
   "metadata": {},
   "outputs": [
    {
     "data": {
      "text/plain": [
       "46"
      ]
     },
     "execution_count": 176,
     "metadata": {},
     "output_type": "execute_result"
    }
   ],
   "source": [
    "df[\"Fournisseurs\"].nunique()"
   ]
  },
  {
   "cell_type": "code",
   "execution_count": 172,
   "id": "2eb6ed51",
   "metadata": {
    "scrolled": true
   },
   "outputs": [
    {
     "data": {
      "text/plain": [
       "Luthor Corp            798\n",
       "Sienar Technologies     69\n",
       "Vladis Entreprise       29\n",
       "Drake & Sweeney         20\n",
       "Cordell SA              17\n",
       "Name: Fournisseurs, dtype: int64"
      ]
     },
     "execution_count": 172,
     "metadata": {},
     "output_type": "execute_result"
    }
   ],
   "source": [
    "df[\"Fournisseurs\"].value_counts()[:5]"
   ]
  },
  {
   "cell_type": "markdown",
   "id": "ebe445b1",
   "metadata": {},
   "source": [
    "# return the indices of elements starting with"
   ]
  },
  {
   "cell_type": "code",
   "execution_count": 161,
   "id": "e313b3a6",
   "metadata": {},
   "outputs": [
    {
     "data": {
      "text/plain": [
       "pandas.core.series.Series"
      ]
     },
     "execution_count": 161,
     "metadata": {},
     "output_type": "execute_result"
    }
   ],
   "source": [
    "# substring to be searched\n",
    "sub ='Cyb'\n",
    "\n",
    "A = df[\"Fournisseurs\"].str.find(sub)\n",
    "\n",
    "type(A)"
   ]
  },
  {
   "cell_type": "code",
   "execution_count": 163,
   "id": "71bd3f34",
   "metadata": {},
   "outputs": [
    {
     "data": {
      "text/plain": [
       "array([-1,  0, -1, ..., -1, -1, -1])"
      ]
     },
     "execution_count": 163,
     "metadata": {},
     "output_type": "execute_result"
    }
   ],
   "source": [
    "B = A.to_numpy()\n",
    "B"
   ]
  },
  {
   "cell_type": "code",
   "execution_count": 164,
   "id": "a15591e1",
   "metadata": {},
   "outputs": [
    {
     "data": {
      "text/plain": [
       "(array([1]),)"
      ]
     },
     "execution_count": 164,
     "metadata": {},
     "output_type": "execute_result"
    }
   ],
   "source": [
    "np.where(B == 0)"
   ]
  },
  {
   "cell_type": "code",
   "execution_count": 173,
   "id": "b424a40b",
   "metadata": {},
   "outputs": [
    {
     "name": "stdout",
     "output_type": "stream",
     "text": [
      "3\n",
      "798\n"
     ]
    }
   ],
   "source": [
    "# substring to be searched\n",
    "sub ='Luthor'\n",
    "\n",
    "A = df[\"Fournisseurs\"].str.find(sub)\n",
    "\n",
    "B = A.to_numpy()\n",
    "wh = np.where(B == 0)[0][0] \n",
    "print( wh ) # the provider appears firstly in the table on the (wh+1)th row\n",
    "\n",
    "leng = len(list(np.where(B == 0)[0]))\n",
    "print( leng )  # 798 rows are for this provider"
   ]
  },
  {
   "cell_type": "markdown",
   "id": "c7a1713e",
   "metadata": {},
   "source": [
    "# Split the data into groups with a same criteria"
   ]
  },
  {
   "cell_type": "code",
   "execution_count": 174,
   "id": "dd7e1619",
   "metadata": {},
   "outputs": [],
   "source": [
    "# split dataframe using gropuby\n",
    "splits = list(df.groupby(\"id_fournisseurs\"))"
   ]
  },
  {
   "cell_type": "code",
   "execution_count": 179,
   "id": "87dc6488",
   "metadata": {},
   "outputs": [
    {
     "data": {
      "text/plain": [
       "tuple"
      ]
     },
     "execution_count": 179,
     "metadata": {},
     "output_type": "execute_result"
    }
   ],
   "source": [
    "type(splits[0])"
   ]
  },
  {
   "cell_type": "code",
   "execution_count": 180,
   "id": "5ad0717a",
   "metadata": {},
   "outputs": [
    {
     "data": {
      "text/plain": [
       "pandas.core.frame.DataFrame"
      ]
     },
     "execution_count": 180,
     "metadata": {},
     "output_type": "execute_result"
    }
   ],
   "source": [
    "type(splits[0][1])"
   ]
  },
  {
   "cell_type": "code",
   "execution_count": 181,
   "id": "52e9b14b",
   "metadata": {},
   "outputs": [
    {
     "data": {
      "text/html": [
       "<div>\n",
       "<style scoped>\n",
       "    .dataframe tbody tr th:only-of-type {\n",
       "        vertical-align: middle;\n",
       "    }\n",
       "\n",
       "    .dataframe tbody tr th {\n",
       "        vertical-align: top;\n",
       "    }\n",
       "\n",
       "    .dataframe thead th {\n",
       "        text-align: right;\n",
       "    }\n",
       "</style>\n",
       "<table border=\"1\" class=\"dataframe\">\n",
       "  <thead>\n",
       "    <tr style=\"text-align: right;\">\n",
       "      <th></th>\n",
       "      <th>Fournisseurs</th>\n",
       "      <th>n_facture</th>\n",
       "      <th>Montant</th>\n",
       "      <th>Date_de_facture</th>\n",
       "      <th>Date_echeance</th>\n",
       "      <th>n_sem</th>\n",
       "      <th>Mis_en_paie</th>\n",
       "      <th>EMAIL</th>\n",
       "      <th>id_fournisseurs</th>\n",
       "    </tr>\n",
       "  </thead>\n",
       "  <tbody>\n",
       "    <tr>\n",
       "      <th>0</th>\n",
       "      <td>Capsule Corp</td>\n",
       "      <td>115968610</td>\n",
       "      <td>74.00</td>\n",
       "      <td>2021-03-29</td>\n",
       "      <td>2021-04-12</td>\n",
       "      <td>15</td>\n",
       "      <td>2021-12-26 19:33:52</td>\n",
       "      <td>contact@capsule-corp.fr</td>\n",
       "      <td>1</td>\n",
       "    </tr>\n",
       "    <tr>\n",
       "      <th>467</th>\n",
       "      <td>Capsule Corp</td>\n",
       "      <td>116231177</td>\n",
       "      <td>76.00</td>\n",
       "      <td>2021-07-08</td>\n",
       "      <td>2021-09-08</td>\n",
       "      <td>36</td>\n",
       "      <td>2021-12-19 17:52:18</td>\n",
       "      <td>contact@capsule-corp.fr</td>\n",
       "      <td>1</td>\n",
       "    </tr>\n",
       "    <tr>\n",
       "      <th>468</th>\n",
       "      <td>Capsule Corp</td>\n",
       "      <td>115912802b</td>\n",
       "      <td>37.00</td>\n",
       "      <td>2021-03-04</td>\n",
       "      <td>2021-09-08</td>\n",
       "      <td>36</td>\n",
       "      <td>2021-12-19 17:52:18</td>\n",
       "      <td>contact@capsule-corp.fr</td>\n",
       "      <td>1</td>\n",
       "    </tr>\n",
       "    <tr>\n",
       "      <th>542</th>\n",
       "      <td>Capsule Corp</td>\n",
       "      <td>Lbi-123877</td>\n",
       "      <td>45133.00</td>\n",
       "      <td>2021-08-26</td>\n",
       "      <td>2021-09-25</td>\n",
       "      <td>38</td>\n",
       "      <td>2021-12-22 00:00:00</td>\n",
       "      <td>contact@capsule-corp.fr</td>\n",
       "      <td>1</td>\n",
       "    </tr>\n",
       "    <tr>\n",
       "      <th>558</th>\n",
       "      <td>Capsule Corp</td>\n",
       "      <td>116381987</td>\n",
       "      <td>116.00</td>\n",
       "      <td>2021-09-13</td>\n",
       "      <td>2021-09-30</td>\n",
       "      <td>39</td>\n",
       "      <td>2021-12-19 22:51:35</td>\n",
       "      <td>contact@capsule-corp.fr</td>\n",
       "      <td>1</td>\n",
       "    </tr>\n",
       "    <tr>\n",
       "      <th>617</th>\n",
       "      <td>Capsule Corp</td>\n",
       "      <td>284313979667</td>\n",
       "      <td>5592.76</td>\n",
       "      <td>2021-10-19</td>\n",
       "      <td>2021-10-19</td>\n",
       "      <td>42</td>\n",
       "      <td>2021-12-20 20:43:56</td>\n",
       "      <td>contact@capsule-corp.fr</td>\n",
       "      <td>1</td>\n",
       "    </tr>\n",
       "    <tr>\n",
       "      <th>693</th>\n",
       "      <td>Capsule Corp</td>\n",
       "      <td>116490834</td>\n",
       "      <td>113.00</td>\n",
       "      <td>2021-10-19</td>\n",
       "      <td>2021-11-09</td>\n",
       "      <td>45</td>\n",
       "      <td>2021-12-20 20:44:26</td>\n",
       "      <td>contact@capsule-corp.fr</td>\n",
       "      <td>1</td>\n",
       "    </tr>\n",
       "    <tr>\n",
       "      <th>694</th>\n",
       "      <td>Capsule Corp</td>\n",
       "      <td>116517406</td>\n",
       "      <td>65.00</td>\n",
       "      <td>2021-10-26</td>\n",
       "      <td>2021-11-09</td>\n",
       "      <td>45</td>\n",
       "      <td>2021-12-20 20:44:26</td>\n",
       "      <td>contact@capsule-corp.fr</td>\n",
       "      <td>1</td>\n",
       "    </tr>\n",
       "    <tr>\n",
       "      <th>695</th>\n",
       "      <td>Capsule Corp</td>\n",
       "      <td>116576509</td>\n",
       "      <td>5565.63</td>\n",
       "      <td>2021-11-11</td>\n",
       "      <td>2021-11-11</td>\n",
       "      <td>45</td>\n",
       "      <td>2021-12-20 20:44:26</td>\n",
       "      <td>contact@capsule-corp.fr</td>\n",
       "      <td>1</td>\n",
       "    </tr>\n",
       "    <tr>\n",
       "      <th>756</th>\n",
       "      <td>Capsule Corp</td>\n",
       "      <td>116538145</td>\n",
       "      <td>193.00</td>\n",
       "      <td>2021-11-02</td>\n",
       "      <td>2021-11-30</td>\n",
       "      <td>48</td>\n",
       "      <td>2021-12-20 20:45:15</td>\n",
       "      <td>contact@capsule-corp.fr</td>\n",
       "      <td>1</td>\n",
       "    </tr>\n",
       "  </tbody>\n",
       "</table>\n",
       "</div>"
      ],
      "text/plain": [
       "     Fournisseurs     n_facture   Montant Date_de_facture Date_echeance  \\\n",
       "0    Capsule Corp     115968610     74.00      2021-03-29    2021-04-12   \n",
       "467  Capsule Corp     116231177     76.00      2021-07-08    2021-09-08   \n",
       "468  Capsule Corp    115912802b     37.00      2021-03-04    2021-09-08   \n",
       "542  Capsule Corp    Lbi-123877  45133.00      2021-08-26    2021-09-25   \n",
       "558  Capsule Corp     116381987    116.00      2021-09-13    2021-09-30   \n",
       "617  Capsule Corp  284313979667   5592.76      2021-10-19    2021-10-19   \n",
       "693  Capsule Corp     116490834    113.00      2021-10-19    2021-11-09   \n",
       "694  Capsule Corp     116517406     65.00      2021-10-26    2021-11-09   \n",
       "695  Capsule Corp     116576509   5565.63      2021-11-11    2021-11-11   \n",
       "756  Capsule Corp     116538145    193.00      2021-11-02    2021-11-30   \n",
       "\n",
       "     n_sem          Mis_en_paie                    EMAIL  id_fournisseurs  \n",
       "0       15  2021-12-26 19:33:52  contact@capsule-corp.fr                1  \n",
       "467     36  2021-12-19 17:52:18  contact@capsule-corp.fr                1  \n",
       "468     36  2021-12-19 17:52:18  contact@capsule-corp.fr                1  \n",
       "542     38  2021-12-22 00:00:00  contact@capsule-corp.fr                1  \n",
       "558     39  2021-12-19 22:51:35  contact@capsule-corp.fr                1  \n",
       "617     42  2021-12-20 20:43:56  contact@capsule-corp.fr                1  \n",
       "693     45  2021-12-20 20:44:26  contact@capsule-corp.fr                1  \n",
       "694     45  2021-12-20 20:44:26  contact@capsule-corp.fr                1  \n",
       "695     45  2021-12-20 20:44:26  contact@capsule-corp.fr                1  \n",
       "756     48  2021-12-20 20:45:15  contact@capsule-corp.fr                1  "
      ]
     },
     "execution_count": 181,
     "metadata": {},
     "output_type": "execute_result"
    }
   ],
   "source": [
    "splits[0][1]"
   ]
  },
  {
   "cell_type": "code",
   "execution_count": 183,
   "id": "124cdffc",
   "metadata": {},
   "outputs": [],
   "source": [
    "# END"
   ]
  }
 ],
 "metadata": {
  "kernelspec": {
   "display_name": "Python 3 (ipykernel)",
   "language": "python",
   "name": "python3"
  },
  "language_info": {
   "codemirror_mode": {
    "name": "ipython",
    "version": 3
   },
   "file_extension": ".py",
   "mimetype": "text/x-python",
   "name": "python",
   "nbconvert_exporter": "python",
   "pygments_lexer": "ipython3",
   "version": "3.8.6"
  },
  "toc": {
   "base_numbering": 1,
   "nav_menu": {},
   "number_sections": true,
   "sideBar": true,
   "skip_h1_title": false,
   "title_cell": "Table of Contents",
   "title_sidebar": "Contents",
   "toc_cell": false,
   "toc_position": {},
   "toc_section_display": true,
   "toc_window_display": false
  }
 },
 "nbformat": 4,
 "nbformat_minor": 5
}
