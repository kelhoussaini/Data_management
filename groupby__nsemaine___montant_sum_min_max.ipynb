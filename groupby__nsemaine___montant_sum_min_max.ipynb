{
 "cells": [
  {
   "cell_type": "code",
   "execution_count": 1,
   "id": "a3a05331",
   "metadata": {},
   "outputs": [],
   "source": [
    "# packages\n",
    "import pandas as pd\n",
    "import numpy as np\n",
    "\n",
    "import matplotlib.pyplot as plt\n",
    "import seaborn as sns"
   ]
  },
  {
   "cell_type": "code",
   "execution_count": 12,
   "id": "299a8601",
   "metadata": {},
   "outputs": [
    {
     "data": {
      "text/plain": [
       "(1092, 10)"
      ]
     },
     "execution_count": 12,
     "metadata": {},
     "output_type": "execute_result"
    }
   ],
   "source": [
    "df = pd.read_csv('Data_with_Coordinates_index.csv')\n",
    "\n",
    "df.shape"
   ]
  },
  {
   "cell_type": "code",
   "execution_count": 13,
   "id": "ed5d4ebc",
   "metadata": {
    "scrolled": false
   },
   "outputs": [
    {
     "data": {
      "text/html": [
       "<div>\n",
       "<style scoped>\n",
       "    .dataframe tbody tr th:only-of-type {\n",
       "        vertical-align: middle;\n",
       "    }\n",
       "\n",
       "    .dataframe tbody tr th {\n",
       "        vertical-align: top;\n",
       "    }\n",
       "\n",
       "    .dataframe thead th {\n",
       "        text-align: right;\n",
       "    }\n",
       "</style>\n",
       "<table border=\"1\" class=\"dataframe\">\n",
       "  <thead>\n",
       "    <tr style=\"text-align: right;\">\n",
       "      <th></th>\n",
       "      <th>id</th>\n",
       "      <th>Fournisseurs</th>\n",
       "      <th>n_facture</th>\n",
       "      <th>Montant</th>\n",
       "      <th>Date_de_facture</th>\n",
       "      <th>Date_echeance</th>\n",
       "      <th>n_sem</th>\n",
       "      <th>Mis_en_paie</th>\n",
       "      <th>EMAIL</th>\n",
       "      <th>id_fournisseurs</th>\n",
       "    </tr>\n",
       "  </thead>\n",
       "  <tbody>\n",
       "    <tr>\n",
       "      <th>0</th>\n",
       "      <td>1</td>\n",
       "      <td>Capsule Corp</td>\n",
       "      <td>115968610</td>\n",
       "      <td>74.00</td>\n",
       "      <td>2021-03-29</td>\n",
       "      <td>2021-04-12</td>\n",
       "      <td>15</td>\n",
       "      <td>2021-12-26 19:33:52</td>\n",
       "      <td>contact@capsule-corp.fr</td>\n",
       "      <td>1</td>\n",
       "    </tr>\n",
       "    <tr>\n",
       "      <th>1</th>\n",
       "      <td>2</td>\n",
       "      <td>Cyberdyne</td>\n",
       "      <td>21040827</td>\n",
       "      <td>1008.00</td>\n",
       "      <td>2021-04-09</td>\n",
       "      <td>2021-04-12</td>\n",
       "      <td>15</td>\n",
       "      <td>2021-12-26 19:34:04</td>\n",
       "      <td>contact@cyberdyne.fr</td>\n",
       "      <td>2</td>\n",
       "    </tr>\n",
       "    <tr>\n",
       "      <th>2</th>\n",
       "      <td>3</td>\n",
       "      <td>Geugène Industrie</td>\n",
       "      <td>2103006</td>\n",
       "      <td>2842.94</td>\n",
       "      <td>2021-03-15</td>\n",
       "      <td>2021-04-14</td>\n",
       "      <td>15</td>\n",
       "      <td>2021-12-26 19:34:05</td>\n",
       "      <td>contact@geugene.fr</td>\n",
       "      <td>3</td>\n",
       "    </tr>\n",
       "    <tr>\n",
       "      <th>3</th>\n",
       "      <td>4</td>\n",
       "      <td>Luthor Corp</td>\n",
       "      <td>F1920074</td>\n",
       "      <td>1325.00</td>\n",
       "      <td>2021-01-15</td>\n",
       "      <td>2021-04-15</td>\n",
       "      <td>15</td>\n",
       "      <td>2021-12-26 19:34:15</td>\n",
       "      <td>contact@luther.fr</td>\n",
       "      <td>4</td>\n",
       "    </tr>\n",
       "    <tr>\n",
       "      <th>4</th>\n",
       "      <td>5</td>\n",
       "      <td>Luthor Corp</td>\n",
       "      <td>F1920110</td>\n",
       "      <td>444.00</td>\n",
       "      <td>2021-01-15</td>\n",
       "      <td>2021-04-15</td>\n",
       "      <td>15</td>\n",
       "      <td>2021-12-26 19:34:16</td>\n",
       "      <td>contact@luther.fr</td>\n",
       "      <td>4</td>\n",
       "    </tr>\n",
       "  </tbody>\n",
       "</table>\n",
       "</div>"
      ],
      "text/plain": [
       "   id       Fournisseurs  n_facture  Montant Date_de_facture Date_echeance  \\\n",
       "0   1       Capsule Corp  115968610    74.00      2021-03-29    2021-04-12   \n",
       "1   2          Cyberdyne   21040827  1008.00      2021-04-09    2021-04-12   \n",
       "2   3  Geugène Industrie    2103006  2842.94      2021-03-15    2021-04-14   \n",
       "3   4        Luthor Corp   F1920074  1325.00      2021-01-15    2021-04-15   \n",
       "4   5        Luthor Corp   F1920110   444.00      2021-01-15    2021-04-15   \n",
       "\n",
       "   n_sem          Mis_en_paie                    EMAIL  id_fournisseurs  \n",
       "0     15  2021-12-26 19:33:52  contact@capsule-corp.fr                1  \n",
       "1     15  2021-12-26 19:34:04     contact@cyberdyne.fr                2  \n",
       "2     15  2021-12-26 19:34:05       contact@geugene.fr                3  \n",
       "3     15  2021-12-26 19:34:15        contact@luther.fr                4  \n",
       "4     15  2021-12-26 19:34:16        contact@luther.fr                4  "
      ]
     },
     "execution_count": 13,
     "metadata": {},
     "output_type": "execute_result"
    }
   ],
   "source": [
    "df.head()"
   ]
  },
  {
   "cell_type": "code",
   "execution_count": 14,
   "id": "e898acec",
   "metadata": {},
   "outputs": [
    {
     "data": {
      "text/html": [
       "<div>\n",
       "<style scoped>\n",
       "    .dataframe tbody tr th:only-of-type {\n",
       "        vertical-align: middle;\n",
       "    }\n",
       "\n",
       "    .dataframe tbody tr th {\n",
       "        vertical-align: top;\n",
       "    }\n",
       "\n",
       "    .dataframe thead th {\n",
       "        text-align: right;\n",
       "    }\n",
       "</style>\n",
       "<table border=\"1\" class=\"dataframe\">\n",
       "  <thead>\n",
       "    <tr style=\"text-align: right;\">\n",
       "      <th></th>\n",
       "      <th>n_sem</th>\n",
       "      <th>Montant_total</th>\n",
       "      <th>min_montant</th>\n",
       "      <th>max_montant</th>\n",
       "      <th>nbre_factures</th>\n",
       "    </tr>\n",
       "  </thead>\n",
       "  <tbody>\n",
       "    <tr>\n",
       "      <th>0</th>\n",
       "      <td>1</td>\n",
       "      <td>501489.00</td>\n",
       "      <td>-355.00</td>\n",
       "      <td>171029.0</td>\n",
       "      <td>26</td>\n",
       "    </tr>\n",
       "    <tr>\n",
       "      <th>1</th>\n",
       "      <td>2</td>\n",
       "      <td>912750.60</td>\n",
       "      <td>30.00</td>\n",
       "      <td>191906.0</td>\n",
       "      <td>24</td>\n",
       "    </tr>\n",
       "    <tr>\n",
       "      <th>2</th>\n",
       "      <td>3</td>\n",
       "      <td>919171.20</td>\n",
       "      <td>20.00</td>\n",
       "      <td>198074.0</td>\n",
       "      <td>30</td>\n",
       "    </tr>\n",
       "    <tr>\n",
       "      <th>3</th>\n",
       "      <td>4</td>\n",
       "      <td>3635.11</td>\n",
       "      <td>5.11</td>\n",
       "      <td>837.0</td>\n",
       "      <td>21</td>\n",
       "    </tr>\n",
       "    <tr>\n",
       "      <th>4</th>\n",
       "      <td>5</td>\n",
       "      <td>126130.60</td>\n",
       "      <td>47.00</td>\n",
       "      <td>99195.0</td>\n",
       "      <td>15</td>\n",
       "    </tr>\n",
       "  </tbody>\n",
       "</table>\n",
       "</div>"
      ],
      "text/plain": [
       "   n_sem  Montant_total  min_montant  max_montant  nbre_factures\n",
       "0      1      501489.00      -355.00     171029.0             26\n",
       "1      2      912750.60        30.00     191906.0             24\n",
       "2      3      919171.20        20.00     198074.0             30\n",
       "3      4        3635.11         5.11        837.0             21\n",
       "4      5      126130.60        47.00      99195.0             15"
      ]
     },
     "execution_count": 14,
     "metadata": {},
     "output_type": "execute_result"
    }
   ],
   "source": [
    "res = df.groupby( \"n_sem\" ).agg( \n",
    "    Montant_total = ('Montant','sum'),\n",
    "    min_montant = ('Montant', 'min'), \n",
    "    max_montant = ('Montant', 'max'),\n",
    "    nbre_factures = ('id', 'count')).reset_index()\n",
    "\n",
    "\n",
    "res.head()"
   ]
  },
  {
   "cell_type": "code",
   "execution_count": 16,
   "id": "211196b6",
   "metadata": {
    "scrolled": true
   },
   "outputs": [
    {
     "data": {
      "text/html": [
       "<div>\n",
       "<style scoped>\n",
       "    .dataframe tbody tr th:only-of-type {\n",
       "        vertical-align: middle;\n",
       "    }\n",
       "\n",
       "    .dataframe tbody tr th {\n",
       "        vertical-align: top;\n",
       "    }\n",
       "\n",
       "    .dataframe thead th {\n",
       "        text-align: right;\n",
       "    }\n",
       "</style>\n",
       "<table border=\"1\" class=\"dataframe\">\n",
       "  <thead>\n",
       "    <tr style=\"text-align: right;\">\n",
       "      <th></th>\n",
       "      <th>n_sem</th>\n",
       "      <th>Montant_total</th>\n",
       "      <th>min_montant</th>\n",
       "      <th>max_montant</th>\n",
       "      <th>nbre_factures</th>\n",
       "    </tr>\n",
       "  </thead>\n",
       "  <tbody>\n",
       "    <tr>\n",
       "      <th>7</th>\n",
       "      <td>8</td>\n",
       "      <td>543613.84</td>\n",
       "      <td>35.0</td>\n",
       "      <td>208130.00</td>\n",
       "      <td>15</td>\n",
       "    </tr>\n",
       "    <tr>\n",
       "      <th>8</th>\n",
       "      <td>9</td>\n",
       "      <td>676898.11</td>\n",
       "      <td>180.0</td>\n",
       "      <td>183076.00</td>\n",
       "      <td>13</td>\n",
       "    </tr>\n",
       "    <tr>\n",
       "      <th>9</th>\n",
       "      <td>10</td>\n",
       "      <td>214533.00</td>\n",
       "      <td>22.0</td>\n",
       "      <td>116969.00</td>\n",
       "      <td>16</td>\n",
       "    </tr>\n",
       "    <tr>\n",
       "      <th>10</th>\n",
       "      <td>15</td>\n",
       "      <td>346029.94</td>\n",
       "      <td>74.0</td>\n",
       "      <td>321781.00</td>\n",
       "      <td>21</td>\n",
       "    </tr>\n",
       "    <tr>\n",
       "      <th>11</th>\n",
       "      <td>16</td>\n",
       "      <td>348875.01</td>\n",
       "      <td>260.0</td>\n",
       "      <td>322043.02</td>\n",
       "      <td>14</td>\n",
       "    </tr>\n",
       "    <tr>\n",
       "      <th>12</th>\n",
       "      <td>17</td>\n",
       "      <td>732764.35</td>\n",
       "      <td>18.0</td>\n",
       "      <td>210958.00</td>\n",
       "      <td>27</td>\n",
       "    </tr>\n",
       "    <tr>\n",
       "      <th>13</th>\n",
       "      <td>18</td>\n",
       "      <td>350854.36</td>\n",
       "      <td>-57.0</td>\n",
       "      <td>132727.00</td>\n",
       "      <td>19</td>\n",
       "    </tr>\n",
       "    <tr>\n",
       "      <th>14</th>\n",
       "      <td>19</td>\n",
       "      <td>299996.33</td>\n",
       "      <td>245.0</td>\n",
       "      <td>287761.00</td>\n",
       "      <td>10</td>\n",
       "    </tr>\n",
       "    <tr>\n",
       "      <th>15</th>\n",
       "      <td>20</td>\n",
       "      <td>626352.50</td>\n",
       "      <td>-20.0</td>\n",
       "      <td>322651.00</td>\n",
       "      <td>34</td>\n",
       "    </tr>\n",
       "    <tr>\n",
       "      <th>16</th>\n",
       "      <td>21</td>\n",
       "      <td>418611.86</td>\n",
       "      <td>60.0</td>\n",
       "      <td>180061.00</td>\n",
       "      <td>36</td>\n",
       "    </tr>\n",
       "    <tr>\n",
       "      <th>17</th>\n",
       "      <td>22</td>\n",
       "      <td>128667.48</td>\n",
       "      <td>245.0</td>\n",
       "      <td>50261.00</td>\n",
       "      <td>20</td>\n",
       "    </tr>\n",
       "  </tbody>\n",
       "</table>\n",
       "</div>"
      ],
      "text/plain": [
       "    n_sem  Montant_total  min_montant  max_montant  nbre_factures\n",
       "7       8      543613.84         35.0    208130.00             15\n",
       "8       9      676898.11        180.0    183076.00             13\n",
       "9      10      214533.00         22.0    116969.00             16\n",
       "10     15      346029.94         74.0    321781.00             21\n",
       "11     16      348875.01        260.0    322043.02             14\n",
       "12     17      732764.35         18.0    210958.00             27\n",
       "13     18      350854.36        -57.0    132727.00             19\n",
       "14     19      299996.33        245.0    287761.00             10\n",
       "15     20      626352.50        -20.0    322651.00             34\n",
       "16     21      418611.86         60.0    180061.00             36\n",
       "17     22      128667.48        245.0     50261.00             20"
      ]
     },
     "execution_count": 16,
     "metadata": {},
     "output_type": "execute_result"
    }
   ],
   "source": [
    "data = res[ (res[\"n_sem\"]>7) & (res[\"n_sem\"]<23) ] \n",
    "data"
   ]
  },
  {
   "cell_type": "code",
   "execution_count": 26,
   "id": "363b4230",
   "metadata": {},
   "outputs": [
    {
     "data": {
      "text/plain": [
       "(10, 36)"
      ]
     },
     "execution_count": 26,
     "metadata": {},
     "output_type": "execute_result"
    }
   ],
   "source": [
    "data['nbre_factures'].min(), data['nbre_factures'].max()"
   ]
  },
  {
   "cell_type": "code",
   "execution_count": 31,
   "id": "d5a36b4d",
   "metadata": {},
   "outputs": [
    {
     "data": {
      "image/png": "[encoded data removed]",
      "text/plain": [
       "<Figure size 1368x504 with 1 Axes>"
      ]
     },
     "metadata": {
      "needs_background": "light"
     },
     "output_type": "display_data"
    }
   ],
   "source": [
    "plt.figure(figsize = (19, 7))\n",
    "sns.histplot(data.loc[:100, 'nbre_factures'], kde = True, bins = 5); # kde : density estimation"
   ]
  },
  {
   "cell_type": "code",
   "execution_count": 33,
   "id": "336ba45d",
   "metadata": {
    "scrolled": true
   },
   "outputs": [
    {
     "data": {
      "image/png": "[encoded data removed]",
      "text/plain": [
       "<Figure size 1368x504 with 1 Axes>"
      ]
     },
     "metadata": {
      "needs_background": "light"
     },
     "output_type": "display_data"
    }
   ],
   "source": [
    "plt.figure(figsize = (19, 7))\n",
    "sns.scatterplot(x=\"n_sem\", y=\"max_montant\", data=data);"
   ]
  },
  {
   "cell_type": "code",
   "execution_count": 48,
   "id": "d1f2f7f5",
   "metadata": {},
   "outputs": [
    {
     "data": {
      "image/png": "[encoded data removed]",
      "text/plain": [
       "<Figure size 1368x504 with 1 Axes>"
      ]
     },
     "metadata": {
      "needs_background": "light"
     },
     "output_type": "display_data"
    }
   ],
   "source": [
    "plt.figure(figsize = (19, 7))\n",
    "sns.scatterplot(x=\"n_sem\", y=\"nbre_factures\",\n",
    "                s = 111, \n",
    "               data=data)\n",
    "plt.grid(True)"
   ]
  },
  {
   "cell_type": "code",
   "execution_count": null,
   "id": "f9edd3a5",
   "metadata": {},
   "outputs": [],
   "source": []
  }
 ],
 "metadata": {
  "kernelspec": {
   "display_name": "Python 3 (ipykernel)",
   "language": "python",
   "name": "python3"
  },
  "language_info": {
   "codemirror_mode": {
    "name": "ipython",
    "version": 3
   },
   "file_extension": ".py",
   "mimetype": "text/x-python",
   "name": "python",
   "nbconvert_exporter": "python",
   "pygments_lexer": "ipython3",
   "version": "3.8.6"
  },
  "toc": {
   "base_numbering": 1,
   "nav_menu": {},
   "number_sections": true,
   "sideBar": true,
   "skip_h1_title": false,
   "title_cell": "Table of Contents",
   "title_sidebar": "Contents",
   "toc_cell": false,
   "toc_position": {},
   "toc_section_display": true,
   "toc_window_display": false
  }
 },
 "nbformat": 4,
 "nbformat_minor": 5
}
