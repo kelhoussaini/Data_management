{
 "cells": [
  {
   "cell_type": "code",
   "execution_count": 3,
   "id": "08f2de67",
   "metadata": {},
   "outputs": [],
   "source": [
    "# packages\n",
    "import pandas as pd\n",
    "import sqlite3"
   ]
  },
  {
   "cell_type": "code",
   "execution_count": 2,
   "id": "b6538e9a",
   "metadata": {
    "scrolled": false
   },
   "outputs": [
    {
     "name": "stdout",
     "output_type": "stream",
     "text": [
      "(1092, 8)\n"
     ]
    },
    {
     "data": {
      "text/html": [
       "<div>\n",
       "<style scoped>\n",
       "    .dataframe tbody tr th:only-of-type {\n",
       "        vertical-align: middle;\n",
       "    }\n",
       "\n",
       "    .dataframe tbody tr th {\n",
       "        vertical-align: top;\n",
       "    }\n",
       "\n",
       "    .dataframe thead th {\n",
       "        text-align: right;\n",
       "    }\n",
       "</style>\n",
       "<table border=\"1\" class=\"dataframe\">\n",
       "  <thead>\n",
       "    <tr style=\"text-align: right;\">\n",
       "      <th></th>\n",
       "      <th>Fournisseurs</th>\n",
       "      <th>n° facture</th>\n",
       "      <th>Montant</th>\n",
       "      <th>Date de facture</th>\n",
       "      <th>Date d'échéance</th>\n",
       "      <th>n° sem</th>\n",
       "      <th>Mis en paie.</th>\n",
       "      <th>E-MAIL</th>\n",
       "    </tr>\n",
       "  </thead>\n",
       "  <tbody>\n",
       "    <tr>\n",
       "      <th>0</th>\n",
       "      <td>Capsule Corp</td>\n",
       "      <td>115968610</td>\n",
       "      <td>74.0</td>\n",
       "      <td>2021-03-29</td>\n",
       "      <td>2021-04-12</td>\n",
       "      <td>15</td>\n",
       "      <td>2021-12-26 19:33:52</td>\n",
       "      <td>contact@capsule-corp.fr</td>\n",
       "    </tr>\n",
       "    <tr>\n",
       "      <th>1</th>\n",
       "      <td>Cyberdyne</td>\n",
       "      <td>21040827</td>\n",
       "      <td>1008.0</td>\n",
       "      <td>2021-04-09</td>\n",
       "      <td>2021-04-12</td>\n",
       "      <td>15</td>\n",
       "      <td>2021-12-26 19:34:04</td>\n",
       "      <td>contact@cyberdyne.fr</td>\n",
       "    </tr>\n",
       "  </tbody>\n",
       "</table>\n",
       "</div>"
      ],
      "text/plain": [
       "   Fournisseurs n° facture  Montant Date de facture Date d'échéance  n° sem  \\\n",
       "0  Capsule Corp  115968610     74.0      2021-03-29      2021-04-12      15   \n",
       "1     Cyberdyne   21040827   1008.0      2021-04-09      2021-04-12      15   \n",
       "\n",
       "         Mis en paie.                   E-MAIL  \n",
       "0 2021-12-26 19:33:52  contact@capsule-corp.fr  \n",
       "1 2021-12-26 19:34:04     contact@cyberdyne.fr  "
      ]
     },
     "execution_count": 2,
     "metadata": {},
     "output_type": "execute_result"
    }
   ],
   "source": [
    "# Load excel file, Sheet1\n",
    "df = pd.read_excel('Data_with_Coordinates.xlsx', sheet_name='Sheet1', index_col=0)\n",
    "\n",
    "print(df.shape)\n",
    "\n",
    "df.head(2) # displaying the two first rows"
   ]
  },
  {
   "cell_type": "code",
   "execution_count": 4,
   "id": "620f5778",
   "metadata": {},
   "outputs": [
    {
     "data": {
      "text/plain": [
       "Index(['Fournisseurs', 'n° facture', 'Montant', 'Date de facture',\n",
       "       'Date d'échéance', 'n° sem', 'Mis en paie.', 'E-MAIL'],\n",
       "      dtype='object')"
      ]
     },
     "execution_count": 4,
     "metadata": {},
     "output_type": "execute_result"
    }
   ],
   "source": [
    "df.columns"
   ]
  },
  {
   "cell_type": "code",
   "execution_count": 5,
   "id": "4200d1f8",
   "metadata": {},
   "outputs": [
    {
     "data": {
      "text/plain": [
       "Fournisseurs               object\n",
       "n° facture                 object\n",
       "Montant                   float64\n",
       "Date de facture    datetime64[ns]\n",
       "Date d'échéance    datetime64[ns]\n",
       "n° sem                      int64\n",
       "Mis en paie.       datetime64[ns]\n",
       "E-MAIL                     object\n",
       "dtype: object"
      ]
     },
     "execution_count": 5,
     "metadata": {},
     "output_type": "execute_result"
    }
   ],
   "source": [
    "df.dtypes"
   ]
  },
  {
   "cell_type": "code",
   "execution_count": 6,
   "id": "b4698079",
   "metadata": {},
   "outputs": [],
   "source": [
    "df_sql = df.copy() # make a copy \n",
    "#to store data into a database, we need for instance to modify columns labels in .db file"
   ]
  },
  {
   "cell_type": "code",
   "execution_count": 7,
   "id": "43827fca",
   "metadata": {},
   "outputs": [
    {
     "data": {
      "text/plain": [
       "Index(['Fournisseurs', 'n° facture', 'Montant', 'Date de facture',\n",
       "       'Date d'échéance', 'n° sem', 'Mis en paie.', 'E-MAIL'],\n",
       "      dtype='object')"
      ]
     },
     "execution_count": 7,
     "metadata": {},
     "output_type": "execute_result"
    }
   ],
   "source": [
    "df_sql.columns"
   ]
  },
  {
   "cell_type": "code",
   "execution_count": 8,
   "id": "0882e708",
   "metadata": {},
   "outputs": [
    {
     "name": "stdout",
     "output_type": "stream",
     "text": [
      "Fournisseurs\n",
      "n_facture\n",
      "Montant\n",
      "Date_de_facture\n",
      "Date_echeance\n",
      "n_sem\n",
      "Mis_en_paie\n",
      "EMAIL\n"
     ]
    }
   ],
   "source": [
    "col = []\n",
    "for i in df_sql.columns:\n",
    "    i = i.replace('° ','_').replace(\"d'\", \"\").replace(' ', '_').replace(\"-\", \"\").replace(\"é\", \"e\").replace(\".\",\"\")\n",
    "    print(i)\n",
    "    col.append(i)\n",
    "df_sql.columns = col"
   ]
  },
  {
   "cell_type": "code",
   "execution_count": 9,
   "id": "66db7025",
   "metadata": {},
   "outputs": [
    {
     "data": {
      "text/plain": [
       "Index(['Fournisseurs', 'n_facture', 'Montant', 'Date_de_facture',\n",
       "       'Date_echeance', 'n_sem', 'Mis_en_paie', 'EMAIL'],\n",
       "      dtype='object')"
      ]
     },
     "execution_count": 9,
     "metadata": {},
     "output_type": "execute_result"
    }
   ],
   "source": [
    "df_sql.columns"
   ]
  },
  {
   "cell_type": "code",
   "execution_count": null,
   "id": "b26bc0c8",
   "metadata": {},
   "outputs": [],
   "source": [
    "#df.to_csv('Data_with_Coordinates.csv', index=False)"
   ]
  },
  {
   "cell_type": "code",
   "execution_count": null,
   "id": "1a5e9e7b",
   "metadata": {},
   "outputs": [],
   "source": [
    "#pip install ipython-sql"
   ]
  },
  {
   "cell_type": "code",
   "execution_count": 10,
   "id": "b4dba12c",
   "metadata": {},
   "outputs": [],
   "source": [
    "cnn = sqlite3.connect('data_fournisseurs.db') #db file 0Ko"
   ]
  },
  {
   "cell_type": "code",
   "execution_count": 11,
   "id": "6b12f972",
   "metadata": {},
   "outputs": [],
   "source": [
    "df_sql.to_sql('fournisseurs', cnn) # load dataframe 'df' into 'fournisseurs' table"
   ]
  },
  {
   "cell_type": "code",
   "execution_count": 12,
   "id": "ce1783a0",
   "metadata": {},
   "outputs": [],
   "source": [
    "%reload_ext sql"
   ]
  },
  {
   "cell_type": "code",
   "execution_count": 13,
   "id": "efff62eb",
   "metadata": {},
   "outputs": [],
   "source": [
    "%sql sqlite:///data_fournisseurs.db"
   ]
  },
  {
   "cell_type": "code",
   "execution_count": 17,
   "id": "79c6a986",
   "metadata": {
    "scrolled": true
   },
   "outputs": [
    {
     "name": "stdout",
     "output_type": "stream",
     "text": [
      " * sqlite:///data_fournisseurs.db\n",
      "Done.\n"
     ]
    },
    {
     "data": {
      "text/html": [
       "<table>\n",
       "    <tr>\n",
       "        <th>index</th>\n",
       "        <th>Fournisseurs</th>\n",
       "        <th>n_facture</th>\n",
       "        <th>Montant</th>\n",
       "        <th>Date_de_facture</th>\n",
       "        <th>Date_echeance</th>\n",
       "        <th>n_sem</th>\n",
       "        <th>Mis_en_paie</th>\n",
       "        <th>EMAIL</th>\n",
       "    </tr>\n",
       "    <tr>\n",
       "        <td>0</td>\n",
       "        <td>Capsule Corp</td>\n",
       "        <td>115968610</td>\n",
       "        <td>74.0</td>\n",
       "        <td>2021-03-29 00:00:00</td>\n",
       "        <td>2021-04-12 00:00:00</td>\n",
       "        <td>15</td>\n",
       "        <td>2021-12-26 19:33:52</td>\n",
       "        <td>contact@capsule-corp.fr</td>\n",
       "    </tr>\n",
       "    <tr>\n",
       "        <td>1</td>\n",
       "        <td>Cyberdyne</td>\n",
       "        <td>21040827</td>\n",
       "        <td>1008.0</td>\n",
       "        <td>2021-04-09 00:00:00</td>\n",
       "        <td>2021-04-12 00:00:00</td>\n",
       "        <td>15</td>\n",
       "        <td>2021-12-26 19:34:04</td>\n",
       "        <td>contact@cyberdyne.fr</td>\n",
       "    </tr>\n",
       "    <tr>\n",
       "        <td>2</td>\n",
       "        <td>Geugène Industrie</td>\n",
       "        <td>2103006</td>\n",
       "        <td>2842.94</td>\n",
       "        <td>2021-03-15 00:00:00</td>\n",
       "        <td>2021-04-14 00:00:00</td>\n",
       "        <td>15</td>\n",
       "        <td>2021-12-26 19:34:05</td>\n",
       "        <td>contact@geugene.fr</td>\n",
       "    </tr>\n",
       "    <tr>\n",
       "        <td>3</td>\n",
       "        <td>Luthor Corp</td>\n",
       "        <td>F1920074</td>\n",
       "        <td>1325.0</td>\n",
       "        <td>2021-01-15 00:00:00</td>\n",
       "        <td>2021-04-15 00:00:00</td>\n",
       "        <td>15</td>\n",
       "        <td>2021-12-26 19:34:15</td>\n",
       "        <td>contact@luther.fr</td>\n",
       "    </tr>\n",
       "</table>"
      ],
      "text/plain": [
       "[(0, 'Capsule Corp', '115968610', 74.0, '2021-03-29 00:00:00', '2021-04-12 00:00:00', 15, '2021-12-26 19:33:52', 'contact@capsule-corp.fr'),\n",
       " (1, 'Cyberdyne', '21040827', 1008.0, '2021-04-09 00:00:00', '2021-04-12 00:00:00', 15, '2021-12-26 19:34:04', 'contact@cyberdyne.fr'),\n",
       " (2, 'Geugène Industrie', '2103006', 2842.94, '2021-03-15 00:00:00', '2021-04-14 00:00:00', 15, '2021-12-26 19:34:05', 'contact@geugene.fr'),\n",
       " (3, 'Luthor Corp', 'F1920074', 1325.0, '2021-01-15 00:00:00', '2021-04-15 00:00:00', 15, '2021-12-26 19:34:15', 'contact@luther.fr')]"
      ]
     },
     "execution_count": 17,
     "metadata": {},
     "output_type": "execute_result"
    }
   ],
   "source": [
    "%%sql\n",
    "\n",
    "SELECT * FROM fournisseurs LIMIT 4"
   ]
  },
  {
   "cell_type": "code",
   "execution_count": 20,
   "id": "a6736c62",
   "metadata": {},
   "outputs": [
    {
     "name": "stdout",
     "output_type": "stream",
     "text": [
      " * sqlite:///data_fournisseurs.db\n",
      "Done.\n"
     ]
    },
    {
     "data": {
      "text/html": [
       "<table>\n",
       "    <tr>\n",
       "        <th>Fournisseurs</th>\n",
       "        <th>Montant</th>\n",
       "        <th>n_facture</th>\n",
       "    </tr>\n",
       "    <tr>\n",
       "        <td>Capsule Corp</td>\n",
       "        <td>74.0</td>\n",
       "        <td>115968610</td>\n",
       "    </tr>\n",
       "    <tr>\n",
       "        <td>Cyberdyne</td>\n",
       "        <td>1008.0</td>\n",
       "        <td>21040827</td>\n",
       "    </tr>\n",
       "    <tr>\n",
       "        <td>Geugène Industrie</td>\n",
       "        <td>2842.94</td>\n",
       "        <td>2103006</td>\n",
       "    </tr>\n",
       "    <tr>\n",
       "        <td>Luthor Corp</td>\n",
       "        <td>1325.0</td>\n",
       "        <td>F1920074</td>\n",
       "    </tr>\n",
       "</table>"
      ],
      "text/plain": [
       "[('Capsule Corp', 74.0, '115968610'),\n",
       " ('Cyberdyne', 1008.0, '21040827'),\n",
       " ('Geugène Industrie', 2842.94, '2103006'),\n",
       " ('Luthor Corp', 1325.0, 'F1920074')]"
      ]
     },
     "execution_count": 20,
     "metadata": {},
     "output_type": "execute_result"
    }
   ],
   "source": [
    "%%sql\n",
    "SELECT Fournisseurs, Montant, n_facture\n",
    "FROM fournisseurs LIMIT 4"
   ]
  },
  {
   "cell_type": "code",
   "execution_count": 45,
   "id": "c6aad7cf",
   "metadata": {},
   "outputs": [
    {
     "name": "stdout",
     "output_type": "stream",
     "text": [
      " * sqlite:///data_fournisseurs.db\n",
      "Done.\n"
     ]
    },
    {
     "data": {
      "text/html": [
       "<table>\n",
       "    <tr>\n",
       "        <th>Semaine</th>\n",
       "        <th>Montants</th>\n",
       "        <th>Nbre_Factures</th>\n",
       "    </tr>\n",
       "    <tr>\n",
       "        <td>8</td>\n",
       "        <td>543614</td>\n",
       "        <td>15</td>\n",
       "    </tr>\n",
       "    <tr>\n",
       "        <td>9</td>\n",
       "        <td>676898</td>\n",
       "        <td>13</td>\n",
       "    </tr>\n",
       "    <tr>\n",
       "        <td>10</td>\n",
       "        <td>214533</td>\n",
       "        <td>16</td>\n",
       "    </tr>\n",
       "    <tr>\n",
       "        <td>15</td>\n",
       "        <td>346030</td>\n",
       "        <td>21</td>\n",
       "    </tr>\n",
       "    <tr>\n",
       "        <td>16</td>\n",
       "        <td>348875</td>\n",
       "        <td>14</td>\n",
       "    </tr>\n",
       "    <tr>\n",
       "        <td>17</td>\n",
       "        <td>732764</td>\n",
       "        <td>27</td>\n",
       "    </tr>\n",
       "    <tr>\n",
       "        <td>18</td>\n",
       "        <td>350854</td>\n",
       "        <td>19</td>\n",
       "    </tr>\n",
       "    <tr>\n",
       "        <td>19</td>\n",
       "        <td>299996</td>\n",
       "        <td>10</td>\n",
       "    </tr>\n",
       "    <tr>\n",
       "        <td>20</td>\n",
       "        <td>626353</td>\n",
       "        <td>34</td>\n",
       "    </tr>\n",
       "    <tr>\n",
       "        <td>21</td>\n",
       "        <td>418612</td>\n",
       "        <td>36</td>\n",
       "    </tr>\n",
       "    <tr>\n",
       "        <td>22</td>\n",
       "        <td>128667</td>\n",
       "        <td>20</td>\n",
       "    </tr>\n",
       "</table>"
      ],
      "text/plain": [
       "[(8, 543614, 15),\n",
       " (9, 676898, 13),\n",
       " (10, 214533, 16),\n",
       " (15, 346030, 21),\n",
       " (16, 348875, 14),\n",
       " (17, 732764, 27),\n",
       " (18, 350854, 19),\n",
       " (19, 299996, 10),\n",
       " (20, 626353, 34),\n",
       " (21, 418612, 36),\n",
       " (22, 128667, 20)]"
      ]
     },
     "execution_count": 45,
     "metadata": {},
     "output_type": "execute_result"
    }
   ],
   "source": [
    "%%sql \n",
    "\n",
    "SELECT n_sem AS Semaine, cast(ROUND(SUM(Montant),0) as int) AS Montants, COUNT(n_facture) AS Nbre_Factures\n",
    "FROM fournisseurs WHERE n_sem BETWEEN 8 AND 22 GROUP BY n_sem"
   ]
  },
  {
   "cell_type": "code",
   "execution_count": null,
   "id": "5d791d05",
   "metadata": {},
   "outputs": [],
   "source": [
    "cnn.close()"
   ]
  },
  {
   "cell_type": "code",
   "execution_count": 51,
   "id": "d52d9ebe",
   "metadata": {},
   "outputs": [
    {
     "data": {
      "text/plain": [
       "array([ 1,  2,  3,  4,  5,  6,  7,  8,  9, 10, 15, 16, 17, 18, 19, 20, 21,\n",
       "       22, 23, 24, 25, 26, 27, 28, 29, 30, 31, 32, 33, 34, 35, 36, 37, 38,\n",
       "       39, 40, 41, 42, 43, 44, 45, 46, 47, 48, 49, 50, 51, 52])"
      ]
     },
     "execution_count": 51,
     "metadata": {},
     "output_type": "execute_result"
    }
   ],
   "source": [
    "df_sql['n_sem'].sort_values().unique()"
   ]
  },
  {
   "cell_type": "code",
   "execution_count": 60,
   "id": "04c69901",
   "metadata": {},
   "outputs": [],
   "source": [
    "import numpy as np"
   ]
  },
  {
   "cell_type": "code",
   "execution_count": 68,
   "id": "1be702b6",
   "metadata": {},
   "outputs": [
    {
     "data": {
      "text/plain": [
       "False"
      ]
     },
     "execution_count": 68,
     "metadata": {},
     "output_type": "execute_result"
    }
   ],
   "source": [
    "list_sem = df_sql['n_sem'].sort_values().unique()\n",
    "list(list_sem) == list(np.arange(1, 53))"
   ]
  },
  {
   "cell_type": "code",
   "execution_count": null,
   "id": "f9d649ac",
   "metadata": {},
   "outputs": [],
   "source": []
  }
 ],
 "metadata": {
  "kernelspec": {
   "display_name": "Python 3 (ipykernel)",
   "language": "python",
   "name": "python3"
  },
  "language_info": {
   "codemirror_mode": {
    "name": "ipython",
    "version": 3
   },
   "file_extension": ".py",
   "mimetype": "text/x-python",
   "name": "python",
   "nbconvert_exporter": "python",
   "pygments_lexer": "ipython3",
   "version": "3.8.6"
  },
  "toc": {
   "base_numbering": 1,
   "nav_menu": {},
   "number_sections": true,
   "sideBar": true,
   "skip_h1_title": false,
   "title_cell": "Table of Contents",
   "title_sidebar": "Contents",
   "toc_cell": false,
   "toc_position": {},
   "toc_section_display": true,
   "toc_window_display": false
  }
 },
 "nbformat": 4,
 "nbformat_minor": 5
}
